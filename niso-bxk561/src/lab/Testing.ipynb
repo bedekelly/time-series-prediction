{
 "cells": [
  {
   "cell_type": "code",
   "execution_count": 1,
   "metadata": {},
   "outputs": [],
   "source": [
    "import time\n",
    "import queue\n",
    "from threading import Thread\n",
    "\n",
    "from evaluate_fitness import load_training_data\n",
    "from genetic_algorithm import genetic_algorithm\n",
    "from solution import Solution\n",
    "from tree import Tree\n",
    "\n",
    "\n",
    "training_data = load_training_data(\"data/cetdl1772small.dat\")\n",
    "\n",
    "\n",
    "class Flag:\n",
    "    def __init__(self):\n",
    "        self._set = False\n",
    "    \n",
    "    def set(self):\n",
    "        self._set = True\n",
    "    \n",
    "    def __bool__(self):\n",
    "        return self._set"
   ]
  },
  {
   "cell_type": "markdown",
   "metadata": {},
   "source": [
    "# Calculating Parameters\n",
    "\n",
    "To fulfill the needs of the experiment we need to run each parameter setting, for each parameter, 100 times.\n",
    "\n",
    "Choosing (fairly conservatively):\n",
    "* Time budget of 20 seconds\n",
    "* 3 parameters to alter\n",
    "* 4 values for each parameter\n",
    "\n",
    "This gives a runtime of $ 3 * 4 * 20 * 100 = 24000 $ seconds, or $8.5$ hours. Clearly we need to use some parallelism to get results in any reasonable timeframe."
   ]
  },
  {
   "cell_type": "code",
   "execution_count": 2,
   "metadata": {
    "scrolled": true
   },
   "outputs": [],
   "source": [
    "def run_test(time_budget=20, pop_size=100, input_size=-1, iterations=2**100, \n",
    "             fraction_parents=0.1, p_simplify=0.01, num_sweeps=3, wrong_choice=0.4,\n",
    "             mutation_crossover_ratio=0.5, mutation_replacement_ratio=0.5):\n",
    "\n",
    "    # Perform the GA in a separate thread.\n",
    "    stop_flag = Flag()\n",
    "    results_queue = queue.LifoQueue()\n",
    "    target = lambda: genetic_algorithm(\n",
    "        pop_size, input_size, iterations, training=training_data, results_queue=results_queue,\n",
    "        stop_flag=stop_flag,\n",
    "        p_simplify=p_simplify, num_sweeps=num_sweeps, wrong_choice=wrong_choice,\n",
    "        mutation_crossover_ratio=mutation_crossover_ratio, fraction_parents=fraction_parents,\n",
    "        mutation_replacement_ratio=mutation_replacement_ratio\n",
    "    )\n",
    "    computation_thread = Thread(target=target, daemon=True)  # Allow exiting when the timer runs out.\n",
    "    computation_thread.start()\n",
    "\n",
    "    # Wait `time_budget` seconds, then take the latest result.\n",
    "    time.sleep(time_budget-0.1)\n",
    "    best = results_queue.get_nowait()\n",
    "    stop_flag.set()\n",
    "\n",
    "    fitness = best.evaluate_fitness_against(training_data)\n",
    "    return fitness"
   ]
  },
  {
   "cell_type": "code",
   "execution_count": 3,
   "metadata": {},
   "outputs": [],
   "source": [
    "import time\n",
    "import statistics as stats\n",
    "from multiprocessing import Pool\n",
    "\n",
    "# Default arguments for test runner.\n",
    "args = {\n",
    "    \"fraction_parents\": 0.2,\n",
    "    \"p_simplify\": 0.01,\n",
    "    \"num_sweeps\": 3,\n",
    "    \"wrong_choice\": 0.4,\n",
    "    \"mutation_crossover_ratio\": 0.5,\n",
    "    \"mutation_replacement_ratio\": 0.5\n",
    "}\n",
    "\n",
    "\n",
    "ITERATIONS = 3\n",
    "WORKERS = 8\n",
    "pool = Pool(WORKERS)"
   ]
  },
  {
   "cell_type": "markdown",
   "metadata": {},
   "source": [
    "# Test Parameter: Fraction of Parents from Population"
   ]
  },
  {
   "cell_type": "code",
   "execution_count": 4,
   "metadata": {},
   "outputs": [
    {
     "name": "stdout",
     "output_type": "stream",
     "text": [
      "Running 12 tests at 20s each on 8 workers took 82.3s\n"
     ]
    }
   ],
   "source": [
    "from test_runners import test_runner\n",
    "start = time.perf_counter()\n",
    "\n",
    "parent_fraction_results = {}\n",
    "for fraction in (0.1, 0.2, 0.3, 0.4):\n",
    "    fitnesses = list(pool.imap_unordered(\n",
    "        test_runner,\n",
    "        ((run_test, {**args, \"fraction_parents\": fraction}) for _ in range(ITERATIONS))\n",
    "    ))\n",
    "    stddev = stats.stdev(fitnesses)\n",
    "    mean = stats.mean(fitnesses)\n",
    "    parent_fraction_results[fraction] = (fitnesses, stddev, mean)\n",
    "\n",
    "print(f\"Running {4 * ITERATIONS} tests at 20s each on {WORKERS} workers took {(time.perf_counter() - start):.1f}s\")"
   ]
  },
  {
   "cell_type": "code",
   "execution_count": 5,
   "metadata": {},
   "outputs": [
    {
     "data": {
      "image/png": "[encoded data removed]",
      "text/plain": [
       "<Figure size 432x288 with 1 Axes>"
      ]
     },
     "metadata": {
      "needs_background": "light"
     },
     "output_type": "display_data"
    }
   ],
   "source": [
    "from seaborn import boxplot\n",
    "\n",
    "data = [\n",
    "    v[0] for v in (parent_fraction_results[k] \n",
    "        for k in sorted(parent_fraction_results.keys()))\n",
    "]\n",
    "\n",
    "_ = boxplot(data=data).set(\n",
    "    xlabel=\"Fraction\",\n",
    "    ylabel=\"Fitness (lower is better)\",\n",
    "    xticklabels=list(parent_fraction_results.keys()),\n",
    "    title=\"Fraction of Population Chosen as Parents\"\n",
    ")"
   ]
  },
  {
   "cell_type": "markdown",
   "metadata": {},
   "source": [
    "# Test Parameter: Probability of Simplifying Solutions"
   ]
  },
  {
   "cell_type": "code",
   "execution_count": 6,
   "metadata": {},
   "outputs": [
    {
     "name": "stdout",
     "output_type": "stream",
     "text": [
      "Running 12 tests at 20s each on 8 workers took 80.0s\n"
     ]
    }
   ],
   "source": [
    "from test_runners import test_runner\n",
    "start = time.perf_counter()\n",
    "\n",
    "p_simplify_results = {}\n",
    "for p_simplify in (0, 0.01, 0.5, 1):\n",
    "    fitnesses = list(pool.imap_unordered(\n",
    "        test_runner,\n",
    "        ((run_test, {**args, \"p_simplify\": p_simplify}) for _ in range(ITERATIONS))\n",
    "    ))\n",
    "    stddev = stats.stdev(fitnesses)\n",
    "    mean = stats.mean(fitnesses)\n",
    "    p_simplify_results[p_simplify] = (fitnesses, stddev, mean)\n",
    "\n",
    "print(f\"Running {4 * ITERATIONS} tests at 20s each on {WORKERS} workers took {(time.perf_counter() - start):.1f}s\")"
   ]
  },
  {
   "cell_type": "code",
   "execution_count": 7,
   "metadata": {},
   "outputs": [
    {
     "data": {
      "image/png": "[encoded data removed]",
      "text/plain": [
       "<Figure size 432x288 with 1 Axes>"
      ]
     },
     "metadata": {
      "needs_background": "light"
     },
     "output_type": "display_data"
    }
   ],
   "source": [
    "data = [\n",
    "    v[0] for v in (p_simplify_results[k] \n",
    "        for k in sorted(p_simplify_results.keys()))\n",
    "]\n",
    "\n",
    "_ = boxplot(data=data).set(\n",
    "    xlabel=\"P(Simplify Individual)\",\n",
    "    ylabel=\"Fitness (lower is better)\",\n",
    "    xticklabels=list(p_simplify_results.keys()),\n",
    "    title=\"Probability of simplifying each individual of a population each iteration\"\n",
    ")"
   ]
  },
  {
   "cell_type": "markdown",
   "metadata": {},
   "source": [
    "# Test Parameter: Probability of Mutating vs. Crossover"
   ]
  },
  {
   "cell_type": "code",
   "execution_count": 8,
   "metadata": {},
   "outputs": [
    {
     "name": "stdout",
     "output_type": "stream",
     "text": [
      "Running 12 tests at 20s each on 8 workers took 80.2s\n"
     ]
    }
   ],
   "source": [
    "from test_runners import test_runner\n",
    "start = time.perf_counter()\n",
    "\n",
    "mutation_crossover_ratio_results = {}\n",
    "for mutation_crossover_ratio in (0.2, 0.4, 0.6, 0.8):\n",
    "    fitnesses = list(pool.imap_unordered(\n",
    "        test_runner,\n",
    "        ((run_test, {**args, \"mutation_crossover_ratio\": mutation_crossover_ratio}) for _ in range(ITERATIONS))\n",
    "    ))\n",
    "    stddev = stats.stdev(fitnesses)\n",
    "    mean = stats.mean(fitnesses)\n",
    "    mutation_crossover_ratio_results[mutation_crossover_ratio] = (fitnesses, stddev, mean)\n",
    "\n",
    "print(f\"Running {4 * ITERATIONS} tests at 20s each on {WORKERS} workers took {(time.perf_counter() - start):.1f}s\")"
   ]
  },
  {
   "cell_type": "code",
   "execution_count": 9,
   "metadata": {},
   "outputs": [
    {
     "data": {
      "image/png": "[encoded data removed]",
      "text/plain": [
       "<Figure size 432x288 with 1 Axes>"
      ]
     },
     "metadata": {
      "needs_background": "light"
     },
     "output_type": "display_data"
    }
   ],
   "source": [
    "data = [\n",
    "    v[0] for v in (mutation_crossover_ratio_results[k] \n",
    "        for k in sorted(mutation_crossover_ratio_results.keys()))\n",
    "]\n",
    "\n",
    "_ = boxplot(data=data).set(\n",
    "    xlabel=\"P(Mutation)\",\n",
    "    ylabel=\"Fitness (lower is better)\",\n",
    "    xticklabels=list(mutation_crossover_ratio_results.keys()),\n",
    "    title=\"Ratio between Mutation and Crossover\"\n",
    ")"
   ]
  },
  {
   "cell_type": "code",
   "execution_count": 14,
   "metadata": {},
   "outputs": [],
   "source": [
    "# Clean up the worker threadpool.\n",
    "pool.close()\n",
    "pool.join()"
   ]
  },
  {
   "cell_type": "markdown",
   "metadata": {},
   "source": [
    "# Other Possible Tests"
   ]
  },
  {
   "cell_type": "code",
   "execution_count": 10,
   "metadata": {},
   "outputs": [],
   "source": [
    "# mutation_replacement_ratio_results = {}\n",
    "\n",
    "# for mutation_replacement_ratio in (0, 0.25, 0.5, 0.75, 1):\n",
    "#     fitnesses = [\n",
    "#         run_test(**{**args, \"mutation_replacement_ratio\": mutation_replacement_ratio})\n",
    "#         for _ in range(ITERATIONS)\n",
    "#     ]\n",
    "#     stddev = stats.stdev(fitnesses)\n",
    "#     mean = stats.mean(fitnesses)\n",
    "#     mutation_replacement_ratio_results[mutation_replacement_ratio] = (fitnesses, stddev, mean)"
   ]
  },
  {
   "cell_type": "code",
   "execution_count": 11,
   "metadata": {},
   "outputs": [],
   "source": [
    "# num_sweeps_results = {}\n",
    "\n",
    "# for num_sweeps in (0, 1, 2, 4, 8):\n",
    "#     fitnesses = [\n",
    "#         run_test(**{**args, \"num_sweeps\": num_sweeps})\n",
    "#         for _ in range(ITERATIONS)\n",
    "#     ]\n",
    "#     stddev = stats.stdev(fitnesses)\n",
    "#     mean = stats.mean(fitnesses)\n",
    "#     num_sweeps_results[num_sweeps] = (fitnesses, stddev, mean)"
   ]
  },
  {
   "cell_type": "code",
   "execution_count": 12,
   "metadata": {},
   "outputs": [],
   "source": [
    "# p_wrong_choice_results = {}\n",
    "\n",
    "# for p_wrong_choice in (0, 0.1, 0.25, 0.4, 0.5):\n",
    "#     fitnesses = [\n",
    "#         run_test(**{**args, \"wrong_choice\": p_wrong_choice})\n",
    "#         for _ in range(ITERATIONS)\n",
    "#     ]\n",
    "#     stddev = stats.stdev(fitnesses)\n",
    "#     mean = stats.mean(fitnesses)\n",
    "#     p_wrong_choice_results[p_wrong_choice] = (fitnesses, stddev, mean)"
   ]
  }
 ],
 "metadata": {
  "kernelspec": {
   "display_name": "Python 3",
   "language": "python",
   "name": "python3"
  },
  "language_info": {
   "codemirror_mode": {
    "name": "ipython",
    "version": 3
   },
   "file_extension": ".py",
   "mimetype": "text/x-python",
   "name": "python",
   "nbconvert_exporter": "python",
   "pygments_lexer": "ipython3",
   "version": "3.7.1"
  }
 },
 "nbformat": 4,
 "nbformat_minor": 2
}
